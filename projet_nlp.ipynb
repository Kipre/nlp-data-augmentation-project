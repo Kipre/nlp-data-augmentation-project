{
  "nbformat": 4,
  "nbformat_minor": 0,
  "metadata": {
    "colab": {
      "name": "projet-nlp",
      "provenance": [],
      "collapsed_sections": []
    },
    "kernelspec": {
      "name": "python3",
      "display_name": "Python 3"
    },
    "accelerator": "GPU"
  },
  "cells": [
    {
      "cell_type": "markdown",
      "metadata": {
        "id": "ij6fgwf0A-TJ",
        "colab_type": "text"
      },
      "source": [
        "# NLP Data augmantation project \n",
        "\n",
        "This notebook presents some different services to use a backtranslation approach for aumenting data for NLP tasks.\n",
        "\n",
        "__Warning:__ there are a few directories pointing to a private drive account but they can be easily changed to reproduce the work. API keys are not provided here."
      ]
    },
    {
      "cell_type": "markdown",
      "metadata": {
        "id": "5Tbe8GyFBDo5",
        "colab_type": "text"
      },
      "source": [
        "## Importing initial data"
      ]
    },
    {
      "cell_type": "code",
      "metadata": {
        "id": "kKJ5iwgB9VKU",
        "colab_type": "code",
        "colab": {
          "base_uri": "https://localhost:8080/",
          "height": 402
        },
        "outputId": "0970aeca-933e-430d-80d6-6a74129f2a5b"
      },
      "source": [
        "import pandas as pd\n",
        "\n",
        "data = pd.read_csv('/content/drive/My Drive/project_codebase/project/data/requests.csv', sep=';')\n",
        "demandes = data['demande']\n",
        "data"
      ],
      "execution_count": 5,
      "outputs": [
        {
          "output_type": "execute_result",
          "data": {
            "text/html": [
              "<div>\n",
              "<style scoped>\n",
              "    .dataframe tbody tr th:only-of-type {\n",
              "        vertical-align: middle;\n",
              "    }\n",
              "\n",
              "    .dataframe tbody tr th {\n",
              "        vertical-align: top;\n",
              "    }\n",
              "\n",
              "    .dataframe thead th {\n",
              "        text-align: right;\n",
              "    }\n",
              "</style>\n",
              "<table border=\"1\" class=\"dataframe\">\n",
              "  <thead>\n",
              "    <tr style=\"text-align: right;\">\n",
              "      <th></th>\n",
              "      <th>demande</th>\n",
              "      <th>motif</th>\n",
              "      <th>groupe_motif</th>\n",
              "    </tr>\n",
              "  </thead>\n",
              "  <tbody>\n",
              "    <tr>\n",
              "      <th>0</th>\n",
              "      <td>je viens enregistrer mon bac</td>\n",
              "      <td>Enregistrement de PACS</td>\n",
              "      <td>01c - Etat Civil PACS Enregistrement</td>\n",
              "    </tr>\n",
              "    <tr>\n",
              "      <th>1</th>\n",
              "      <td>je viens de pardon je viens pour déposer un do...</td>\n",
              "      <td>Enregistrement de PACS</td>\n",
              "      <td>01c - Etat Civil PACS Enregistrement</td>\n",
              "    </tr>\n",
              "    <tr>\n",
              "      <th>2</th>\n",
              "      <td>je souhaite enregistrer une convention de PACS...</td>\n",
              "      <td>Enregistrement de PACS</td>\n",
              "      <td>01c - Etat Civil PACS Enregistrement</td>\n",
              "    </tr>\n",
              "    <tr>\n",
              "      <th>3</th>\n",
              "      <td>bonjour je viens pour un enregistrement de PACS</td>\n",
              "      <td>Enregistrement de PACS</td>\n",
              "      <td>01c - Etat Civil PACS Enregistrement</td>\n",
              "    </tr>\n",
              "    <tr>\n",
              "      <th>4</th>\n",
              "      <td>je souhaite enregistrer une convention de pact...</td>\n",
              "      <td>Enregistrement de PACS</td>\n",
              "      <td>01c - Etat Civil PACS Enregistrement</td>\n",
              "    </tr>\n",
              "    <tr>\n",
              "      <th>...</th>\n",
              "      <td>...</td>\n",
              "      <td>...</td>\n",
              "      <td>...</td>\n",
              "    </tr>\n",
              "    <tr>\n",
              "      <th>1183</th>\n",
              "      <td>nous souhaitons annuler notre pacte civil de s...</td>\n",
              "      <td>PACS (Dépôt de dossier, modification ou dissol...</td>\n",
              "      <td>01d - Etat Civil PACS Modification, dissolution</td>\n",
              "    </tr>\n",
              "    <tr>\n",
              "      <th>1184</th>\n",
              "      <td>je viens de déposer mon dossier de PACS</td>\n",
              "      <td>PACS (Dépôt de dossier, modification ou dissol...</td>\n",
              "      <td>01d - Etat Civil PACS Modification, dissolution</td>\n",
              "    </tr>\n",
              "    <tr>\n",
              "      <th>1185</th>\n",
              "      <td>je me PACS</td>\n",
              "      <td>PACS (Dépôt de dossier, modification ou dissol...</td>\n",
              "      <td>01d - Etat Civil PACS Modification, dissolution</td>\n",
              "    </tr>\n",
              "    <tr>\n",
              "      <th>1186</th>\n",
              "      <td>je souhaite modifier mon contrat PACS</td>\n",
              "      <td>PACS (Dépôt de dossier, modification ou dissol...</td>\n",
              "      <td>01d - Etat Civil PACS Modification, dissolution</td>\n",
              "    </tr>\n",
              "    <tr>\n",
              "      <th>1187</th>\n",
              "      <td>je souhaite faire dissoudre mon pacte civil de...</td>\n",
              "      <td>PACS (Dépôt de dossier, modification ou dissol...</td>\n",
              "      <td>01d - Etat Civil PACS Modification, dissolution</td>\n",
              "    </tr>\n",
              "  </tbody>\n",
              "</table>\n",
              "<p>1188 rows × 3 columns</p>\n",
              "</div>"
            ],
            "text/plain": [
              "                                                demande  ...                                     groupe_motif\n",
              "0                          je viens enregistrer mon bac  ...             01c - Etat Civil PACS Enregistrement\n",
              "1     je viens de pardon je viens pour déposer un do...  ...             01c - Etat Civil PACS Enregistrement\n",
              "2     je souhaite enregistrer une convention de PACS...  ...             01c - Etat Civil PACS Enregistrement\n",
              "3       bonjour je viens pour un enregistrement de PACS  ...             01c - Etat Civil PACS Enregistrement\n",
              "4     je souhaite enregistrer une convention de pact...  ...             01c - Etat Civil PACS Enregistrement\n",
              "...                                                 ...  ...                                              ...\n",
              "1183  nous souhaitons annuler notre pacte civil de s...  ...  01d - Etat Civil PACS Modification, dissolution\n",
              "1184            je viens de déposer mon dossier de PACS  ...  01d - Etat Civil PACS Modification, dissolution\n",
              "1185                                         je me PACS  ...  01d - Etat Civil PACS Modification, dissolution\n",
              "1186              je souhaite modifier mon contrat PACS  ...  01d - Etat Civil PACS Modification, dissolution\n",
              "1187  je souhaite faire dissoudre mon pacte civil de...  ...  01d - Etat Civil PACS Modification, dissolution\n",
              "\n",
              "[1188 rows x 3 columns]"
            ]
          },
          "metadata": {
            "tags": []
          },
          "execution_count": 5
        }
      ]
    },
    {
      "cell_type": "markdown",
      "metadata": {
        "id": "k6Mi5uuUf4T0",
        "colab_type": "text"
      },
      "source": [
        "## Back translation with Yandex"
      ]
    },
    {
      "cell_type": "code",
      "metadata": {
        "id": "Q5EbSRFjYbmo",
        "colab_type": "code",
        "colab": {}
      },
      "source": [
        "import requests\n",
        "import json\n",
        "\n",
        "api = 'https://translate.yandex.net/api/v1.5/tr.json/translate'\n",
        "key = '<Your API key>'\n",
        "\n",
        "languages = ['en', 'es', 'ru', 'de', 'ar', 'it'] # , 'ja', 'ca', 'zh'"
      ],
      "execution_count": 0,
      "outputs": []
    },
    {
      "cell_type": "code",
      "metadata": {
        "id": "qBajDhGS9P2J",
        "colab_type": "code",
        "colab": {}
      },
      "source": [
        "result = []"
      ],
      "execution_count": 0,
      "outputs": []
    },
    {
      "cell_type": "code",
      "metadata": {
        "id": "mbK_lnEXgBkt",
        "colab_type": "code",
        "colab": {}
      },
      "source": [
        "for i, request in demandes.loc[1168:].iteritems():\n",
        "    for lang in languages:\n",
        "        text = request\n",
        "        lang, back = f'fr-{lang}', f'{lang}-fr'\n",
        "\n",
        "        r = requests.post(api, data={'key':key,\n",
        "                                     'text':text,\n",
        "                                    'lang':lang})\n",
        "        answer = json.loads(r.text)\n",
        "        if answer['code'] != 200:\n",
        "            print(answer)\n",
        "        translated_text = answer['text'][0]\n",
        "\n",
        "        r = requests.post(api, data={'key':key,\n",
        "                                    'text':translated_text,\n",
        "                                    'lang':back})\n",
        "        answer = json.loads(r.text)\n",
        "        if answer['code'] != 200:\n",
        "            print(answer)\n",
        "        final = answer['text'][0]\n",
        "        result.append([i, final])\n",
        "    print(i)\n"
      ],
      "execution_count": 0,
      "outputs": []
    },
    {
      "cell_type": "code",
      "metadata": {
        "id": "LZQumCIPeZ7D",
        "colab_type": "code",
        "colab": {}
      },
      "source": [
        "augmented = pd.DataFrame(result, columns=['corresponding_example_id', 'generated'])\n",
        "# augmented.to_csv('/content/drive/My Drive/project_codebase/project/generated_yandex.csv', index=False)"
      ],
      "execution_count": 0,
      "outputs": []
    },
    {
      "cell_type": "markdown",
      "metadata": {
        "id": "74NcWsqxP7V0",
        "colab_type": "text"
      },
      "source": [
        "## Back translation with Azure"
      ]
    },
    {
      "cell_type": "code",
      "metadata": {
        "id": "DWTvy-54P5zv",
        "colab_type": "code",
        "outputId": "864204f5-bf29-4723-92eb-5ef8bc24ee4f",
        "colab": {
          "base_uri": "https://localhost:8080/",
          "height": 34
        }
      },
      "source": [
        "import requests, uuid, json\n",
        "\n",
        "subscription_key = '<Your API key>'\n",
        "endpoint = '<Your endpoint>'\n",
        "\n",
        "path = '/translate?api-version=3.0'\n",
        "params = '&to=de&to=it'\n",
        "constructed_url = endpoint + path + params\n",
        "\n",
        "headers = {\n",
        "    'Ocp-Apim-Subscription-Key': subscription_key,\n",
        "    'Content-type': 'application/json',\n",
        "    'X-ClientTraceId': str(uuid.uuid4())\n",
        "}\n",
        "\n",
        "# You can pass more than one object in body.\n",
        "body = [{\n",
        "    'text' : 'Hello World!'\n",
        "}]\n",
        "request = requests.post(constructed_url, headers=headers, json=body)\n",
        "# response = request.json()\n",
        "\n",
        "# print(json.dumps(response, sort_keys=True, indent=4, separators=(',', ': ')))\n",
        "print(request.text)"
      ],
      "execution_count": 0,
      "outputs": [
        {
          "output_type": "stream",
          "text": [
            "{\"error\":{\"code\":\"404\",\"message\": \"Resource not found\"}}\n"
          ],
          "name": "stdout"
        }
      ]
    },
    {
      "cell_type": "markdown",
      "metadata": {
        "id": "8CaNk00Fo5OS",
        "colab_type": "text"
      },
      "source": [
        "## Backtranslation with Goslate"
      ]
    },
    {
      "cell_type": "code",
      "metadata": {
        "id": "LSg0MXx9o4ui",
        "colab_type": "code",
        "outputId": "5c1d6fa9-8087-4e25-c247-1e043f62caf7",
        "colab": {
          "base_uri": "https://localhost:8080/",
          "height": 222
        }
      },
      "source": [
        "pip install goslate"
      ],
      "execution_count": 0,
      "outputs": [
        {
          "output_type": "stream",
          "text": [
            "Collecting goslate\n",
            "  Downloading https://files.pythonhosted.org/packages/39/0b/50af938a1c3d4f4c595b6a22d37af11ebe666246b05a1a97573e8c8944e5/goslate-1.5.1.tar.gz\n",
            "Collecting futures\n",
            "  Downloading https://files.pythonhosted.org/packages/05/80/f41cca0ea1ff69bce7e7a7d76182b47bb4e1a494380a532af3e8ee70b9ec/futures-3.1.1-py3-none-any.whl\n",
            "Building wheels for collected packages: goslate\n",
            "  Building wheel for goslate (setup.py) ... \u001b[?25l\u001b[?25hdone\n",
            "  Created wheel for goslate: filename=goslate-1.5.1-cp36-none-any.whl size=11550 sha256=ffa17e20011a127799035cca55e239a353593a047eb978461ce7242d346a7853\n",
            "  Stored in directory: /root/.cache/pip/wheels/4f/7f/28/6f52271012a7649b54b1a7adaae329b4246bbbf9d1e4f6e51a\n",
            "Successfully built goslate\n",
            "Installing collected packages: futures, goslate\n",
            "Successfully installed futures-3.1.1 goslate-1.5.1\n"
          ],
          "name": "stdout"
        }
      ]
    },
    {
      "cell_type": "code",
      "metadata": {
        "id": "tdq1iaxJo3dl",
        "colab_type": "code",
        "colab": {}
      },
      "source": [
        "import goslate\n",
        "import pandas as pd\n",
        "import sys\n",
        "import time\n",
        "\n",
        "translator = goslate.Goslate()\n",
        "d = pd.read_csv(\"/content/drive/My Drive/project_codebase/project/data/requests.csv\", sep=';')\n",
        "classes = d['motif'].unique()\n",
        "langs= ['en', 'es', 'de', 'ru', 'ar', 'it', 'ja', 'ca', 'zh']\n",
        "for cl in classes:\n",
        "\tdi = d.loc[d['motif']==cl]\n",
        "\tdi = di['demande'].values.tolist()\n",
        "\t# print(\"class : {}\".format(cl), file=sys.stderr)\n",
        "\tfor l in langs:\n",
        "\t\t# print(\"lang = {}\".format(l), file=sys.stderr)\n",
        "\t\tinter = translator.translate(di, l)\n",
        "\t\tres = translator.translate(inter, 'fr')\n",
        "\t\tfor x in res:\n",
        "\t\t\tprint(\"{};{}\".format(x, cl), file='results.csv')\n",
        "\t\ttime.sleep(5)\n"
      ],
      "execution_count": 0,
      "outputs": []
    },
    {
      "cell_type": "markdown",
      "metadata": {
        "id": "E4FxxuxlRibZ",
        "colab_type": "text"
      },
      "source": [
        "## Augmented data\n",
        "\n",
        "Putting the dataset back together."
      ]
    },
    {
      "cell_type": "code",
      "metadata": {
        "id": "4ieXtZZ6Prkz",
        "colab_type": "code",
        "colab": {
          "base_uri": "https://localhost:8080/",
          "height": 402
        },
        "outputId": "f8bb12bb-40e4-46e6-f979-a8e412088c13"
      },
      "source": [
        "generated = pd.read_csv('/content/drive/My Drive/project_codebase/project/generated_yandex.csv')\n",
        "initial = pd.read_csv('/content/drive/My Drive/project_codebase/project/data/requests.csv', sep=';').reset_index()\n",
        "initial.rename(columns={'index': 'corresponding_example_id'}, inplace=True)\n",
        "generated = generated.join(initial, on='corresponding_example_id', lsuffix='0')\n",
        "generated.drop(['corresponding_example_id0', 'corresponding_example_id'], axis=1, inplace=True)\n",
        "generated.rename(columns={'demande':'demande_originale', 'generated':'demande'}, inplace=True)\n",
        "generated"
      ],
      "execution_count": 18,
      "outputs": [
        {
          "output_type": "execute_result",
          "data": {
            "text/html": [
              "<div>\n",
              "<style scoped>\n",
              "    .dataframe tbody tr th:only-of-type {\n",
              "        vertical-align: middle;\n",
              "    }\n",
              "\n",
              "    .dataframe tbody tr th {\n",
              "        vertical-align: top;\n",
              "    }\n",
              "\n",
              "    .dataframe thead th {\n",
              "        text-align: right;\n",
              "    }\n",
              "</style>\n",
              "<table border=\"1\" class=\"dataframe\">\n",
              "  <thead>\n",
              "    <tr style=\"text-align: right;\">\n",
              "      <th></th>\n",
              "      <th>demande</th>\n",
              "      <th>demande_originale</th>\n",
              "      <th>motif</th>\n",
              "      <th>groupe_motif</th>\n",
              "    </tr>\n",
              "  </thead>\n",
              "  <tbody>\n",
              "    <tr>\n",
              "      <th>0</th>\n",
              "      <td>Je viens de sauver mon réservoir</td>\n",
              "      <td>je viens enregistrer mon bac</td>\n",
              "      <td>Enregistrement de PACS</td>\n",
              "      <td>01c - Etat Civil PACS Enregistrement</td>\n",
              "    </tr>\n",
              "    <tr>\n",
              "      <th>1</th>\n",
              "      <td>Je viens juste de garder mon dépôt</td>\n",
              "      <td>je viens enregistrer mon bac</td>\n",
              "      <td>Enregistrement de PACS</td>\n",
              "      <td>01c - Etat Civil PACS Enregistrement</td>\n",
              "    </tr>\n",
              "    <tr>\n",
              "      <th>2</th>\n",
              "      <td>je viens d'enregistrer mon bac</td>\n",
              "      <td>je viens enregistrer mon bac</td>\n",
              "      <td>Enregistrement de PACS</td>\n",
              "      <td>01c - Etat Civil PACS Enregistrement</td>\n",
              "    </tr>\n",
              "    <tr>\n",
              "      <th>3</th>\n",
              "      <td>je viens d'enregistrer mon aquarium</td>\n",
              "      <td>je viens enregistrer mon bac</td>\n",
              "      <td>Enregistrement de PACS</td>\n",
              "      <td>01c - Etat Civil PACS Enregistrement</td>\n",
              "    </tr>\n",
              "    <tr>\n",
              "      <th>4</th>\n",
              "      <td>Je ne sauvegarde que le réservoir</td>\n",
              "      <td>je viens enregistrer mon bac</td>\n",
              "      <td>Enregistrement de PACS</td>\n",
              "      <td>01c - Etat Civil PACS Enregistrement</td>\n",
              "    </tr>\n",
              "    <tr>\n",
              "      <th>...</th>\n",
              "      <td>...</td>\n",
              "      <td>...</td>\n",
              "      <td>...</td>\n",
              "      <td>...</td>\n",
              "    </tr>\n",
              "    <tr>\n",
              "      <th>7123</th>\n",
              "      <td>Je veux dissoudre mon pacte civil de solidarité</td>\n",
              "      <td>je souhaite faire dissoudre mon pacte civil de...</td>\n",
              "      <td>PACS (Dépôt de dossier, modification ou dissol...</td>\n",
              "      <td>01d - Etat Civil PACS Modification, dissolution</td>\n",
              "    </tr>\n",
              "    <tr>\n",
              "      <th>7124</th>\n",
              "      <td>je voudrais, pour dissoudre mon pacte civil de...</td>\n",
              "      <td>je souhaite faire dissoudre mon pacte civil de...</td>\n",
              "      <td>PACS (Dépôt de dossier, modification ou dissol...</td>\n",
              "      <td>01d - Etat Civil PACS Modification, dissolution</td>\n",
              "    </tr>\n",
              "    <tr>\n",
              "      <th>7125</th>\n",
              "      <td>je veux résoudre mon pacte civil de solidarité</td>\n",
              "      <td>je souhaite faire dissoudre mon pacte civil de...</td>\n",
              "      <td>PACS (Dépôt de dossier, modification ou dissol...</td>\n",
              "      <td>01d - Etat Civil PACS Modification, dissolution</td>\n",
              "    </tr>\n",
              "    <tr>\n",
              "      <th>7126</th>\n",
              "      <td>Je veux que ma solution de la Charte de civil ...</td>\n",
              "      <td>je souhaite faire dissoudre mon pacte civil de...</td>\n",
              "      <td>PACS (Dépôt de dossier, modification ou dissol...</td>\n",
              "      <td>01d - Etat Civil PACS Modification, dissolution</td>\n",
              "    </tr>\n",
              "    <tr>\n",
              "      <th>7127</th>\n",
              "      <td>Je veux dissoudre mon pacte de solidarité</td>\n",
              "      <td>je souhaite faire dissoudre mon pacte civil de...</td>\n",
              "      <td>PACS (Dépôt de dossier, modification ou dissol...</td>\n",
              "      <td>01d - Etat Civil PACS Modification, dissolution</td>\n",
              "    </tr>\n",
              "  </tbody>\n",
              "</table>\n",
              "<p>7128 rows × 4 columns</p>\n",
              "</div>"
            ],
            "text/plain": [
              "                                                demande  ...                                     groupe_motif\n",
              "0                      Je viens de sauver mon réservoir  ...             01c - Etat Civil PACS Enregistrement\n",
              "1                    Je viens juste de garder mon dépôt  ...             01c - Etat Civil PACS Enregistrement\n",
              "2                        je viens d'enregistrer mon bac  ...             01c - Etat Civil PACS Enregistrement\n",
              "3                   je viens d'enregistrer mon aquarium  ...             01c - Etat Civil PACS Enregistrement\n",
              "4                     Je ne sauvegarde que le réservoir  ...             01c - Etat Civil PACS Enregistrement\n",
              "...                                                 ...  ...                                              ...\n",
              "7123    Je veux dissoudre mon pacte civil de solidarité  ...  01d - Etat Civil PACS Modification, dissolution\n",
              "7124  je voudrais, pour dissoudre mon pacte civil de...  ...  01d - Etat Civil PACS Modification, dissolution\n",
              "7125     je veux résoudre mon pacte civil de solidarité  ...  01d - Etat Civil PACS Modification, dissolution\n",
              "7126  Je veux que ma solution de la Charte de civil ...  ...  01d - Etat Civil PACS Modification, dissolution\n",
              "7127          Je veux dissoudre mon pacte de solidarité  ...  01d - Etat Civil PACS Modification, dissolution\n",
              "\n",
              "[7128 rows x 4 columns]"
            ]
          },
          "metadata": {
            "tags": []
          },
          "execution_count": 18
        }
      ]
    },
    {
      "cell_type": "markdown",
      "metadata": {
        "id": "CBGyyWQkEgIy",
        "colab_type": "text"
      },
      "source": [
        "## Evaluation\n",
        "\n",
        "The evaluation is done by commenting and uncommenting some lines so that the `dev.txt` and `test.txt` always remain the same and `train.txt` change according to the data provided."
      ]
    },
    {
      "cell_type": "code",
      "metadata": {
        "id": "1XIReLzEEkx1",
        "colab_type": "code",
        "colab": {}
      },
      "source": [
        "from os import path\n",
        "\n",
        "import os\n",
        "import numpy\n",
        "import pandas\n",
        "corpus_path = \"corpus_splits/\"\n",
        "if not path.exists(corpus_path):\n",
        "    os.mkdir(corpus_path)\n",
        "\n",
        "#Loading dataset\n",
        "# df = pandas.read_csv(\"/content/drive/My Drive/project_codebase/project/data/requests.csv\", sep=\";\")\n",
        "df = generated\n",
        "df = df[[\"motif\", \"demande\"]]\n",
        "df[\"motif\"] = \"__label__\" + df[\"motif\"].astype(\"str\")\n",
        "df[\"motif\"] = df[\"motif\"].str.replace(\" \",\"_\",regex=False)\n",
        "\n",
        "# Number of splits\n",
        "num_splits = 10\n",
        "\n",
        "\n",
        "for split in range(num_splits):\n",
        "    base_path = corpus_path + \"split_\" + str(split)\n",
        "    if not path.exists(base_path):\n",
        "        os.mkdir(base_path)\n",
        "\n",
        "    train, test, dev = numpy.split(df.sample(frac=1), [int(.7 * len(df)), int(.9 * len(df))])  # type: # DataFrame\n",
        "\n",
        "    train.to_csv(base_path + \"/train.txt\", index=False, sep=\"\\t\", header=False)\n",
        "    # test.to_csv(base_path + \"/test.txt\", index=False, sep=\"\\t\", header=False)\n",
        "    # dev.to_csv(base_path + \"/dev.txt\", index=False, sep=\"\\t\", header=False)\n"
      ],
      "execution_count": 0,
      "outputs": []
    },
    {
      "cell_type": "code",
      "metadata": {
        "id": "T4J1N6x1Gqhw",
        "colab_type": "code",
        "colab": {}
      },
      "source": [
        "!pip install flair"
      ],
      "execution_count": 0,
      "outputs": []
    },
    {
      "cell_type": "code",
      "metadata": {
        "id": "aZd5maN5narQ",
        "colab_type": "code",
        "colab": {
          "base_uri": "https://localhost:8080/",
          "height": 34
        },
        "outputId": "b4a0944d-5b16-420c-c085-3a3f0cd1dae8"
      },
      "source": [
        "%tensorflow_version 2.x\n",
        "\n",
        "from flair.data import Corpus\n",
        "from flair.datasets import ClassificationCorpus\n",
        "from flair.embeddings import CamembertEmbeddings, DocumentRNNEmbeddings\n",
        "from flair.models import TextClassifier\n",
        "from flair.trainers import ModelTrainer\n",
        "from sklearn.metrics import f1_score\n",
        "from sklearn.metrics import accuracy_score\n",
        "from torch.optim import Adam\n",
        "import numpy as np"
      ],
      "execution_count": 24,
      "outputs": [
        {
          "output_type": "stream",
          "text": [
            "TensorFlow 2.x selected.\n"
          ],
          "name": "stdout"
        }
      ]
    },
    {
      "cell_type": "code",
      "metadata": {
        "id": "0mz6-sNgGVQt",
        "colab_type": "code",
        "colab": {}
      },
      "source": [
        "data_folder = 'corpus_splits/'\n",
        "\n",
        "# column format indicating which columns hold the text and label(s)\n",
        "column_name_map = {1: \"text\", 2: \"label_topic\", }\n",
        "\n",
        "# Camembert\n",
        "camembert = CamembertEmbeddings(layers=\"-1,-2,-3,-4\")\n",
        "\n",
        "embedding_list = [camembert]\n",
        "\n",
        "# Document embedding model\n",
        "document_embeddings = DocumentRNNEmbeddings(embedding_list, hidden_size=750, bidirectional=True,\n",
        "                                            rnn_layers=2,\n",
        "                                            rnn_type='GRU',\n",
        "                                            dropout=0.4,\n",
        "                                            word_dropout=0.1)\n",
        "results = []\n",
        "\n",
        "# 10-fold cross validation\n",
        "for root, dirs, files in os.walk(data_folder):\n",
        "    for dir in dirs:\n",
        "        if \"split\" in dir:\n",
        "            print(\"Processing \" + dir + \" ...\")\n",
        "            corpus: Corpus = ClassificationCorpus(data_folder + \"/\" + dir,\n",
        "                                                  test_file='test.txt',\n",
        "                                                  dev_file='dev.txt',\n",
        "                                                  train_file='train.txt', in_memory=True)\n",
        "\n",
        "            classifier = TextClassifier(document_embeddings, label_dictionary=corpus.make_label_dictionary(),\n",
        "                                        multi_label=False)\n",
        "            trainer = ModelTrainer(classifier, corpus)\n",
        "            model_path = data_folder + \"/\" + dir + \"/model/\"\n",
        "            scores = trainer.train(model_path, max_epochs=10,\n",
        "                                   embeddings_storage_mode=\"cpu\",\n",
        "                                   learning_rate=0.3,\n",
        "                                   mini_batch_size=32,\n",
        "                                   anneal_factor=0.5,\n",
        "                                   shuffle=False,\n",
        "                                   patience=5, save_final_model=False, anneal_with_restarts=False)\n",
        "            expected = [sentence.labels[0].value for sentence in corpus.test.sentences]\n",
        "            predictions = [sentence.labels[0].value for sentence in classifier.predict(corpus.test.sentences)]\n",
        "            scores['test_f1'] = f1_score(expected, predictions, average='micro')\n",
        "            results.append(scores)\n"
      ],
      "execution_count": 0,
      "outputs": []
    },
    {
      "cell_type": "code",
      "metadata": {
        "id": "NgFwHfdiHYLT",
        "colab_type": "code",
        "outputId": "df9149a2-9e38-468f-fff9-088f1eeec0a6",
        "colab": {
          "base_uri": "https://localhost:8080/",
          "height": 34
        }
      },
      "source": [
        "accuracies = []\n",
        "f1s = []\n",
        "for split in results:\n",
        "    accuracies.append(split['test_score'])\n",
        "    f1s.append(split['test_f1'])\n",
        "\n",
        "print(\"| {:.3f} +- {:.3f} | {:.3f} +- {:.3f} |\".format(float(np.mean(accuracies)), float(np.std(accuracies)), float(np.mean(f1s)), float(np.std(f1s))))\n"
      ],
      "execution_count": 27,
      "outputs": [
        {
          "output_type": "stream",
          "text": [
            "| 0.988 +- 0.015 | 0.988 +- 0.015 |\n"
          ],
          "name": "stdout"
        }
      ]
    }
  ]
}